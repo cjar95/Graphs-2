{
 "cells": [
  {
   "cell_type": "markdown",
   "id": "imposed-playlist",
   "metadata": {},
   "source": [
    "# Lab 6: Graphs 2"
   ]
  },
  {
   "cell_type": "markdown",
   "id": "d97cce87",
   "metadata": {},
   "source": [
    "Lab associated with Module 6: Graphs II"
   ]
  },
  {
   "cell_type": "markdown",
   "id": "5c7f2e9d",
   "metadata": {},
   "source": [
    "***"
   ]
  },
  {
   "cell_type": "code",
   "execution_count": 3,
   "id": "5b495ad0",
   "metadata": {},
   "outputs": [
    {
     "name": "stderr",
     "output_type": "stream",
     "text": [
      "C:\\Users\\jarac\\AppData\\Local\\Temp\\ipykernel_9428\\1945220536.py:2: DeprecationWarning: Importing display from IPython.core.display is deprecated since IPython 7.14, please import from IPython display\n",
      "  from IPython.core.display import display, HTML\n"
     ]
    },
    {
     "data": {
      "text/html": [
       "<style>.container { width:95% !important; }</style>"
      ],
      "text/plain": [
       "<IPython.core.display.HTML object>"
      ]
     },
     "metadata": {},
     "output_type": "display_data"
    }
   ],
   "source": [
    "# The following lines are used to increase the width of cells to utilize more space on the screen \n",
    "from IPython.core.display import display, HTML\n",
    "display(HTML(\"<style>.container { width:95% !important; }</style>\"))"
   ]
  },
  {
   "cell_type": "markdown",
   "id": "3a2b855c",
   "metadata": {},
   "source": [
    "***"
   ]
  },
  {
   "cell_type": "markdown",
   "id": "9d0921a0",
   "metadata": {},
   "source": [
    "### Section 0: Imports"
   ]
  },
  {
   "cell_type": "code",
   "execution_count": 4,
   "id": "477622d5",
   "metadata": {},
   "outputs": [],
   "source": [
    "import numpy as np"
   ]
  },
  {
   "cell_type": "code",
   "execution_count": 5,
   "id": "50fb5ed5",
   "metadata": {},
   "outputs": [],
   "source": [
    "import math"
   ]
  },
  {
   "cell_type": "code",
   "execution_count": 6,
   "id": "8747d819",
   "metadata": {},
   "outputs": [],
   "source": [
    "import time"
   ]
  },
  {
   "cell_type": "code",
   "execution_count": 7,
   "id": "965de108",
   "metadata": {},
   "outputs": [],
   "source": [
    "from IPython.display import Image\n",
    "from graphviz import Digraph"
   ]
  },
  {
   "cell_type": "markdown",
   "id": "214d69eb",
   "metadata": {},
   "source": [
    "Details of Digraph package: https://h1ros.github.io/posts/introduction-to-graphviz-in-jupyter-notebook/"
   ]
  },
  {
   "cell_type": "markdown",
   "id": "7f9321f8",
   "metadata": {},
   "source": [
    "***"
   ]
  },
  {
   "cell_type": "markdown",
   "id": "317d9bca",
   "metadata": {},
   "source": [
    "### Section 1: Graph Preliminaries"
   ]
  },
  {
   "cell_type": "markdown",
   "id": "cc820c0e",
   "metadata": {},
   "source": [
    "Let us start by implementing our Node and Graph data structure to incorporate weights in the graph"
   ]
  },
  {
   "cell_type": "code",
   "execution_count": 8,
   "id": "d8e6550f",
   "metadata": {},
   "outputs": [],
   "source": [
    "#Same node class as previous graphs module\n",
    "#Added a few extra components (attributes: estD)\n",
    "#Out and in neighbors can now incorporate weights \n",
    "class Node:\n",
    "    \n",
    "    def __init__(self, v):\n",
    "\n",
    "        self.value = v\n",
    "        self.inNeighbors = []\n",
    "        self.outNeighbors = []\n",
    "        \n",
    "        self.status = \"unvisited\"\n",
    "        self.estD = np.inf\n",
    "        \n",
    "    def hasOutNeighbor(self, v):\n",
    "        \n",
    "        if v in self.outNeighbors:\n",
    "            return True\n",
    "        \n",
    "        return False\n",
    "        \n",
    "    def hasInNeighbor(self, v):\n",
    "        \n",
    "        if v in self.inNeighbors:\n",
    "            return True\n",
    "        \n",
    "        return False\n",
    "    \n",
    "    def hasNeighbor(self, v):\n",
    "        \n",
    "        if v in self.inNeighbors or v in self.outNeighbors:\n",
    "            return True\n",
    "        \n",
    "        return False\n",
    "    \n",
    "    def getOutNeighbors(self):\n",
    "        \n",
    "        return self.outNeighbors\n",
    "    \n",
    "    def getInNeighbors(self):\n",
    "        \n",
    "        return self.inNeighbors\n",
    "    \n",
    "    def getOutNeighborsWithWeights(self):\n",
    "        \n",
    "        return self.outNeighbors\n",
    "    \n",
    "    def getInNeighborsWithWeights(self):\n",
    "        \n",
    "        return self.inNeighbors\n",
    "    \n",
    "    # ------------------------------------------------\n",
    "    # Let us modify following two functions to incorporate weights\n",
    "    # ------------------------------------------------\n",
    "    \n",
    "    def addOutNeighbor(self,v,wt):\n",
    "        \n",
    "        self.outNeighbors.append((v,wt))\n",
    "    \n",
    "    def addInNeighbor(self,v,wt):\n",
    "        \n",
    "        self.inNeighbors.append((v,wt))\n",
    "        \n",
    "        \n",
    "    def __str__(self):\n",
    "        \n",
    "        return str(self.value) "
   ]
  },
  {
   "cell_type": "code",
   "execution_count": 9,
   "id": "30ab4c32",
   "metadata": {},
   "outputs": [],
   "source": [
    "#Graph Class modified to incorporate weights\n",
    "class Graph:\n",
    "    \n",
    "    def __init__(self):\n",
    "        \n",
    "        self.vertices = []\n",
    "        self.edges = []\n",
    "\n",
    "    def addVertex(self,n):\n",
    "        \n",
    "        self.vertices.append(n)\n",
    "        \n",
    "    # ------------------------------------------------\n",
    "    # Let us modify following two functions to incorporate weights\n",
    "    # ------------------------------------------------\n",
    "        \n",
    "    def addDiEdge(self, u, v, wt = 1):\n",
    "        \n",
    "        u.addOutNeighbor(v, wt = wt)\n",
    "        v.addInNeighbor(u, wt = wt)\n",
    "        \n",
    "  #  def addEdgeArray(self, u, v, wt ):\n",
    "   #     self.edges.append([u, v, wt])\n",
    "        \n",
    "    # add edges in both directions between u and v\n",
    "    def addBiEdge(self, u, v, wt = 1):\n",
    "        \n",
    "        self.addDiEdge(u, v, wt = wt)\n",
    "        self.addDiEdge(v, u, wt = wt)\n",
    "        \n",
    "            \n",
    "    # get a list of all the directed edges\n",
    "    # directed edges are a list of two vertices\n",
    "    def getDirEdges(self):\n",
    "        \n",
    "        ret = []\n",
    "        for v in self.vertices:\n",
    "            ret += [ [v, u] for u in v.outNeighbors ]\n",
    "        return ret\n",
    "    \n",
    "    # reverse the edge between u and v.  Multiple edges are not supported.\n",
    "    def reverseEdge(self,u,v):\n",
    "        \n",
    "        if u.hasOutNeighbor(v) and v.hasInNeighbor(u):\n",
    "            \n",
    "            if v.hasOutNeighbor(u) and u.hasInNeighbor(v): \n",
    "                return\n",
    "        \n",
    "            self.addDiEdge(v, u)\n",
    "            u.outNeighbors.remove(v)\n",
    "            v.inNeighbors.remove(u)        \n",
    "                \n",
    "    def __str__(self):\n",
    "        \n",
    "        ret = \"Graph with:\\n\"\n",
    "        ret += \"\\t Vertices:\\n\\t\"\n",
    "        for v in self.vertices:\n",
    "            ret += str(v) + \",\"\n",
    "        ret += \"\\n\"\n",
    "        ret += \"\\t Edges:\\n\\t\"\n",
    "        for a,b in self.getDirEdges():\n",
    "            ret += \"(\" + str(a) + \",\" + str(b[0]) + \",\" + str(b[1]) + \")\\n\\t \"\n",
    "        ret += \"\\n\"\n",
    "        return ret"
   ]
  },
  {
   "cell_type": "markdown",
   "id": "7afa81de",
   "metadata": {},
   "source": [
    "Now that we have incorporated the weights, let us devise a plan to generate the graph"
   ]
  },
  {
   "cell_type": "code",
   "execution_count": 10,
   "id": "d3a8a344",
   "metadata": {},
   "outputs": [
    {
     "data": {
      "image/svg+xml": [
       "<?xml version=\"1.0\" encoding=\"UTF-8\" standalone=\"no\"?>\n",
       "<!DOCTYPE svg PUBLIC \"-//W3C//DTD SVG 1.1//EN\"\n",
       " \"http://www.w3.org/Graphics/SVG/1.1/DTD/svg11.dtd\">\n",
       "<!-- Generated by graphviz version 5.0.0 (20220707.1540)\n",
       " -->\n",
       "<!-- Pages: 1 -->\n",
       "<svg width=\"117pt\" height=\"404pt\"\n",
       " viewBox=\"0.00 0.00 117.00 404.00\" xmlns=\"http://www.w3.org/2000/svg\" xmlns:xlink=\"http://www.w3.org/1999/xlink\">\n",
       "<g id=\"graph0\" class=\"graph\" transform=\"scale(1 1) rotate(0) translate(4 400)\">\n",
       "<polygon fill=\"white\" stroke=\"transparent\" points=\"-4,4 -4,-400 113,-400 113,4 -4,4\"/>\n",
       "<!-- S -->\n",
       "<g id=\"node1\" class=\"node\">\n",
       "<title>S</title>\n",
       "<ellipse fill=\"none\" stroke=\"black\" cx=\"54\" cy=\"-378\" rx=\"27\" ry=\"18\"/>\n",
       "<text text-anchor=\"middle\" x=\"54\" y=\"-374.3\" font-family=\"Times New Roman,serif\" font-size=\"14.00\">S</text>\n",
       "</g>\n",
       "<!-- E -->\n",
       "<g id=\"node2\" class=\"node\">\n",
       "<title>E</title>\n",
       "<ellipse fill=\"none\" stroke=\"black\" cx=\"27\" cy=\"-306\" rx=\"27\" ry=\"18\"/>\n",
       "<text text-anchor=\"middle\" x=\"27\" y=\"-302.3\" font-family=\"Times New Roman,serif\" font-size=\"14.00\">E</text>\n",
       "</g>\n",
       "<!-- S&#45;&gt;E -->\n",
       "<g id=\"edge1\" class=\"edge\">\n",
       "<title>S&#45;&gt;E</title>\n",
       "<path fill=\"none\" stroke=\"black\" d=\"M47.6,-360.41C44.49,-352.34 40.67,-342.43 37.17,-333.35\"/>\n",
       "<polygon fill=\"black\" stroke=\"black\" points=\"40.4,-332.03 33.54,-323.96 33.87,-334.55 40.4,-332.03\"/>\n",
       "</g>\n",
       "<!-- A -->\n",
       "<g id=\"node3\" class=\"node\">\n",
       "<title>A</title>\n",
       "<ellipse fill=\"none\" stroke=\"black\" cx=\"82\" cy=\"-162\" rx=\"27\" ry=\"18\"/>\n",
       "<text text-anchor=\"middle\" x=\"82\" y=\"-158.3\" font-family=\"Times New Roman,serif\" font-size=\"14.00\">A</text>\n",
       "</g>\n",
       "<!-- S&#45;&gt;A -->\n",
       "<g id=\"edge2\" class=\"edge\">\n",
       "<title>S&#45;&gt;A</title>\n",
       "<path fill=\"none\" stroke=\"black\" d=\"M57.14,-359.85C58.98,-349.49 61.27,-336.01 63,-324 69.73,-277.2 75.81,-222.48 79.19,-190.4\"/>\n",
       "<polygon fill=\"black\" stroke=\"black\" points=\"82.68,-190.74 80.24,-180.43 75.72,-190.01 82.68,-190.74\"/>\n",
       "</g>\n",
       "<!-- D -->\n",
       "<g id=\"node4\" class=\"node\">\n",
       "<title>D</title>\n",
       "<ellipse fill=\"none\" stroke=\"black\" cx=\"27\" cy=\"-234\" rx=\"27\" ry=\"18\"/>\n",
       "<text text-anchor=\"middle\" x=\"27\" y=\"-230.3\" font-family=\"Times New Roman,serif\" font-size=\"14.00\">D</text>\n",
       "</g>\n",
       "<!-- E&#45;&gt;D -->\n",
       "<g id=\"edge3\" class=\"edge\">\n",
       "<title>E&#45;&gt;D</title>\n",
       "<path fill=\"none\" stroke=\"black\" d=\"M27,-287.7C27,-279.98 27,-270.71 27,-262.11\"/>\n",
       "<polygon fill=\"black\" stroke=\"black\" points=\"30.5,-262.1 27,-252.1 23.5,-262.1 30.5,-262.1\"/>\n",
       "</g>\n",
       "<!-- C -->\n",
       "<g id=\"node5\" class=\"node\">\n",
       "<title>C</title>\n",
       "<ellipse fill=\"none\" stroke=\"black\" cx=\"27\" cy=\"-90\" rx=\"27\" ry=\"18\"/>\n",
       "<text text-anchor=\"middle\" x=\"27\" y=\"-86.3\" font-family=\"Times New Roman,serif\" font-size=\"14.00\">C</text>\n",
       "</g>\n",
       "<!-- A&#45;&gt;C -->\n",
       "<g id=\"edge5\" class=\"edge\">\n",
       "<title>A&#45;&gt;C</title>\n",
       "<path fill=\"none\" stroke=\"black\" d=\"M70.07,-145.81C62.79,-136.55 53.34,-124.52 45.15,-114.09\"/>\n",
       "<polygon fill=\"black\" stroke=\"black\" points=\"47.84,-111.86 38.91,-106.16 42.34,-116.18 47.84,-111.86\"/>\n",
       "</g>\n",
       "<!-- D&#45;&gt;A -->\n",
       "<g id=\"edge4\" class=\"edge\">\n",
       "<title>D&#45;&gt;A</title>\n",
       "<path fill=\"none\" stroke=\"black\" d=\"M38.93,-217.81C46.21,-208.55 55.66,-196.52 63.85,-186.09\"/>\n",
       "<polygon fill=\"black\" stroke=\"black\" points=\"66.66,-188.18 70.09,-178.16 61.16,-183.86 66.66,-188.18\"/>\n",
       "</g>\n",
       "<!-- D&#45;&gt;C -->\n",
       "<g id=\"edge7\" class=\"edge\">\n",
       "<title>D&#45;&gt;C</title>\n",
       "<path fill=\"none\" stroke=\"black\" d=\"M27,-215.87C27,-191.67 27,-147.21 27,-118.39\"/>\n",
       "<polygon fill=\"black\" stroke=\"black\" points=\"30.5,-118.19 27,-108.19 23.5,-118.19 30.5,-118.19\"/>\n",
       "</g>\n",
       "<!-- B -->\n",
       "<g id=\"node6\" class=\"node\">\n",
       "<title>B</title>\n",
       "<ellipse fill=\"none\" stroke=\"black\" cx=\"54\" cy=\"-18\" rx=\"27\" ry=\"18\"/>\n",
       "<text text-anchor=\"middle\" x=\"54\" y=\"-14.3\" font-family=\"Times New Roman,serif\" font-size=\"14.00\">B</text>\n",
       "</g>\n",
       "<!-- C&#45;&gt;B -->\n",
       "<g id=\"edge8\" class=\"edge\">\n",
       "<title>C&#45;&gt;B</title>\n",
       "<path fill=\"none\" stroke=\"black\" d=\"M33.4,-72.41C36.51,-64.34 40.33,-54.43 43.83,-45.35\"/>\n",
       "<polygon fill=\"black\" stroke=\"black\" points=\"47.13,-46.55 47.46,-35.96 40.6,-44.03 47.13,-46.55\"/>\n",
       "</g>\n",
       "<!-- B&#45;&gt;A -->\n",
       "<g id=\"edge6\" class=\"edge\">\n",
       "<title>B&#45;&gt;A</title>\n",
       "<path fill=\"none\" stroke=\"black\" d=\"M57.39,-36.19C62.19,-60.53 71.01,-105.28 76.69,-134.06\"/>\n",
       "<polygon fill=\"black\" stroke=\"black\" points=\"73.25,-134.74 78.62,-143.87 80.12,-133.38 73.25,-134.74\"/>\n",
       "</g>\n",
       "</g>\n",
       "</svg>\n"
      ],
      "text/plain": [
       "<graphviz.graphs.Digraph at 0x202f9afc340>"
      ]
     },
     "execution_count": 10,
     "metadata": {},
     "output_type": "execute_result"
    }
   ],
   "source": [
    "dot = Digraph()\n",
    "\n",
    "dot.edge('S', 'E')\n",
    "dot.edge('S', 'A')\n",
    "dot.edge('E', 'D')\n",
    "dot.edge('D', 'A')\n",
    "dot.edge('A', 'C')\n",
    "dot.edge('B', 'A')\n",
    "dot.edge('D', 'C')\n",
    "dot.edge('C', 'B')\n",
    "\n",
    "#dot.view()\n",
    "dot"
   ]
  },
  {
   "cell_type": "code",
   "execution_count": 11,
   "id": "90237e9f",
   "metadata": {},
   "outputs": [],
   "source": [
    "G = Graph()\n",
    "#for i in ['0', '1', '2', '3', '4', '5']:\n",
    "for i in ['S', 'E', 'A', 'D', 'B', 'C']:\n",
    "    G.addVertex( Node(i) )"
   ]
  },
  {
   "cell_type": "code",
   "execution_count": 12,
   "id": "e2160adc",
   "metadata": {},
   "outputs": [],
   "source": [
    "V = G.vertices\n",
    "\n",
    "#dot.edge('S', 'E')\n",
    "G.addDiEdge( V[0], V[1], 8)\n",
    "\n",
    "#dot.edge('S', 'A')\n",
    "G.addDiEdge( V[0], V[2] , 10)\n",
    "\n",
    "#dot.edge('E', 'D')\n",
    "G.addDiEdge( V[1], V[3], 1)\n",
    "\n",
    "#dot.edge('D', 'A')\n",
    "G.addDiEdge( V[3], V[2], -4)\n",
    "\n",
    "#dot.edge('A', 'C')\n",
    "G.addDiEdge( V[2], V[5], 2)\n",
    "\n",
    "#dot.edge('B', 'A')\n",
    "G.addDiEdge( V[4], V[2], 1 )\n",
    "\n",
    "#dot.edge('D', 'C')\n",
    "G.addDiEdge( V[3], V[5], -1)\n",
    "\n",
    "#dot.edge('C', 'B')\n",
    "G.addDiEdge( V[5], V[4], -2 )"
   ]
  },
  {
   "cell_type": "code",
   "execution_count": 13,
   "id": "12339cab",
   "metadata": {},
   "outputs": [
    {
     "name": "stdout",
     "output_type": "stream",
     "text": [
      "Graph with:\n",
      "\t Vertices:\n",
      "\tS,E,A,D,B,C,\n",
      "\t Edges:\n",
      "\t(S,E,8)\n",
      "\t (S,A,10)\n",
      "\t (E,D,1)\n",
      "\t (A,C,2)\n",
      "\t (D,A,-4)\n",
      "\t (D,C,-1)\n",
      "\t (B,A,1)\n",
      "\t (C,B,-2)\n",
      "\t \n",
      "\n"
     ]
    }
   ],
   "source": [
    "print(G)"
   ]
  },
  {
   "cell_type": "markdown",
   "id": "8fcbaefb",
   "metadata": {},
   "source": [
    "Second Example"
   ]
  },
  {
   "cell_type": "code",
   "execution_count": 14,
   "id": "dd4d197d",
   "metadata": {},
   "outputs": [],
   "source": [
    "G2 = Graph()\n",
    "#for i in ['0', '1', '2', '3', '4', '5']:\n",
    "for i in ['S', 'A', 'B']:\n",
    "    G2.addVertex( Node(i) )\n",
    "    \n",
    "V2 = G2.vertices\n",
    "\n",
    "G2.addDiEdge( V2[0], V2[1], 3)\n",
    "\n",
    "G2.addDiEdge( V2[0], V2[2] , 4)\n",
    "\n",
    "G2.addDiEdge( V2[2], V2[1], -2)"
   ]
  },
  {
   "cell_type": "code",
   "execution_count": 15,
   "id": "fb865755",
   "metadata": {},
   "outputs": [
    {
     "name": "stdout",
     "output_type": "stream",
     "text": [
      "Graph with:\n",
      "\t Vertices:\n",
      "\tS,A,B,\n",
      "\t Edges:\n",
      "\t(S,A,3)\n",
      "\t (S,B,4)\n",
      "\t (B,A,-2)\n",
      "\t \n",
      "\n"
     ]
    }
   ],
   "source": [
    "print(G2)"
   ]
  },
  {
   "cell_type": "markdown",
   "id": "0ed62d3b",
   "metadata": {},
   "source": [
    "***"
   ]
  },
  {
   "cell_type": "markdown",
   "id": "94392ed1",
   "metadata": {},
   "source": [
    "### Section 2: Dijkstra Algorithm"
   ]
  },
  {
   "cell_type": "code",
   "execution_count": 16,
   "id": "b4d19469",
   "metadata": {},
   "outputs": [
    {
     "data": {
      "text/plain": [
       "6"
      ]
     },
     "execution_count": 16,
     "metadata": {},
     "output_type": "execute_result"
    }
   ],
   "source": [
    "#Finds the quantity of the vertices in Graph G (6)\n",
    "len(G.vertices)"
   ]
  },
  {
   "cell_type": "code",
   "execution_count": 17,
   "id": "f9e73256",
   "metadata": {},
   "outputs": [],
   "source": [
    "#Creates a variable V for the vertices of graph G\n",
    "V = G.vertices "
   ]
  },
  {
   "cell_type": "code",
   "execution_count": 18,
   "id": "d07c777b",
   "metadata": {},
   "outputs": [
    {
     "name": "stdout",
     "output_type": "stream",
     "text": [
      "0 S\n",
      "1 E\n",
      "2 A\n",
      "3 D\n",
      "4 B\n",
      "5 C\n"
     ]
    }
   ],
   "source": [
    "for i in range(len(V)):\n",
    "    print(i, V[i].value)"
   ]
  },
  {
   "cell_type": "code",
   "execution_count": 19,
   "id": "aac76aeb",
   "metadata": {},
   "outputs": [
    {
     "data": {
      "text/plain": [
       "3"
      ]
     },
     "execution_count": 19,
     "metadata": {},
     "output_type": "execute_result"
    }
   ],
   "source": [
    "#Finds the quantity of the vertices in Graph G2(3)\n",
    "len(G2.vertices)"
   ]
  },
  {
   "cell_type": "code",
   "execution_count": 20,
   "id": "64fa0c55",
   "metadata": {},
   "outputs": [],
   "source": [
    "#Creates a variable V2 for the vertices of graph G2\n",
    "V2 = G2.vertices "
   ]
  },
  {
   "cell_type": "code",
   "execution_count": 21,
   "id": "f3e0f471",
   "metadata": {},
   "outputs": [
    {
     "name": "stdout",
     "output_type": "stream",
     "text": [
      "0 S\n",
      "1 A\n",
      "2 B\n"
     ]
    }
   ],
   "source": [
    "for i in range(len(V2)):\n",
    "    print(i, V2[i].value)"
   ]
  },
  {
   "cell_type": "code",
   "execution_count": 22,
   "id": "4df8a7a1",
   "metadata": {},
   "outputs": [],
   "source": [
    "#Algorithm to find the shortest path between a node to all other nodes \n",
    "def dijkstra(w, G):\n",
    "    \n",
    "    for v in G.vertices:\n",
    "        v.estD = math.inf\n",
    "        \n",
    "    w.estD = 0\n",
    "    unsureVertices = G.vertices[:]\n",
    "    \n",
    "    sureVertices = []\n",
    "    \n",
    "    while len(unsureVertices) > 0:\n",
    "    \n",
    "        # find the u with the minimum estD in the dumbest way possible\n",
    "        u = None\n",
    "        minD = math.inf\n",
    "        for x in unsureVertices:\n",
    "            if x.estD < minD:\n",
    "                minD = x.estD\n",
    "                u = x\n",
    "        \n",
    "        if u == None:\n",
    "            # then there is nothing more that I can reach\n",
    "            return\n",
    "        \n",
    "        # update u's neighbors\n",
    "        for v, wt in u.getOutNeighborsWithWeights():\n",
    "            \n",
    "            if v in sureVertices:\n",
    "                continue\n",
    "            \n",
    "            if u.estD + wt < v.estD:\n",
    "                v.estD = u.estD + wt\n",
    "        \n",
    "        unsureVertices.remove(u)\n",
    "        sureVertices.append(u)\n",
    "    \n",
    "    # that's it!  Now each vertex holds estD which is its distance from w"
   ]
  },
  {
   "cell_type": "markdown",
   "id": "1e870270",
   "metadata": {},
   "source": [
    "# Dijkstra's Test Cases"
   ]
  },
  {
   "cell_type": "code",
   "execution_count": 23,
   "id": "d5257c42",
   "metadata": {},
   "outputs": [],
   "source": [
    "#Makes a non negative weighed graph\n",
    "G3 = Graph()\n",
    "#for i in ['0', '1', '2', '3', '4', '5']:\n",
    "for i in ['C', 'A', 'M', 'I']:\n",
    "    G3.addVertex( Node(i) )\n",
    "    \n",
    "V3 = G3.vertices\n",
    "\n",
    "#('C', 'A')\n",
    "G3.addDiEdge( V3[0], V3[1], 5)\n",
    "\n",
    "#('C', 'M')\n",
    "G3.addDiEdge( V3[0], V3[2] , 8)\n",
    "\n",
    "#('A', 'M')\n",
    "G3.addDiEdge( V3[1], V3[2], 3)\n",
    "\n",
    "#('I', 'A')\n",
    "G3.addDiEdge( V3[3], V3[1], 6)\n",
    "\n",
    "#('I', 'C')\n",
    "G3.addDiEdge( V3[3], V3[0], 4)\n",
    "\n",
    "#('M', 'I')\n",
    "G3.addDiEdge( V3[2], V3[3], 9)\n"
   ]
  },
  {
   "cell_type": "code",
   "execution_count": 24,
   "id": "a3f08b28",
   "metadata": {},
   "outputs": [
    {
     "name": "stdout",
     "output_type": "stream",
     "text": [
      "Graph with:\n",
      "\t Vertices:\n",
      "\tC,A,M,I,\n",
      "\t Edges:\n",
      "\t(C,A,5)\n",
      "\t (C,M,8)\n",
      "\t (A,M,3)\n",
      "\t (M,I,9)\n",
      "\t (I,A,6)\n",
      "\t (I,C,4)\n",
      "\t \n",
      "\n"
     ]
    }
   ],
   "source": [
    "#Prints Graph G3\n",
    "print(G3)"
   ]
  },
  {
   "cell_type": "code",
   "execution_count": 25,
   "id": "3ca0d58d",
   "metadata": {},
   "outputs": [
    {
     "data": {
      "image/svg+xml": [
       "<?xml version=\"1.0\" encoding=\"UTF-8\" standalone=\"no\"?>\n",
       "<!DOCTYPE svg PUBLIC \"-//W3C//DTD SVG 1.1//EN\"\n",
       " \"http://www.w3.org/Graphics/SVG/1.1/DTD/svg11.dtd\">\n",
       "<!-- Generated by graphviz version 5.0.0 (20220707.1540)\n",
       " -->\n",
       "<!-- Pages: 1 -->\n",
       "<svg width=\"122pt\" height=\"260pt\"\n",
       " viewBox=\"0.00 0.00 122.47 260.00\" xmlns=\"http://www.w3.org/2000/svg\" xmlns:xlink=\"http://www.w3.org/1999/xlink\">\n",
       "<g id=\"graph0\" class=\"graph\" transform=\"scale(1 1) rotate(0) translate(4 256)\">\n",
       "<polygon fill=\"white\" stroke=\"transparent\" points=\"-4,4 -4,-256 118.47,-256 118.47,4 -4,4\"/>\n",
       "<!-- C -->\n",
       "<g id=\"node1\" class=\"node\">\n",
       "<title>C</title>\n",
       "<ellipse fill=\"none\" stroke=\"black\" cx=\"73\" cy=\"-234\" rx=\"27\" ry=\"18\"/>\n",
       "<text text-anchor=\"middle\" x=\"73\" y=\"-230.3\" font-family=\"Times New Roman,serif\" font-size=\"14.00\">C</text>\n",
       "</g>\n",
       "<!-- A -->\n",
       "<g id=\"node2\" class=\"node\">\n",
       "<title>A</title>\n",
       "<ellipse fill=\"none\" stroke=\"black\" cx=\"73\" cy=\"-162\" rx=\"27\" ry=\"18\"/>\n",
       "<text text-anchor=\"middle\" x=\"73\" y=\"-158.3\" font-family=\"Times New Roman,serif\" font-size=\"14.00\">A</text>\n",
       "</g>\n",
       "<!-- C&#45;&gt;A -->\n",
       "<g id=\"edge1\" class=\"edge\">\n",
       "<title>C&#45;&gt;A</title>\n",
       "<path fill=\"none\" stroke=\"black\" d=\"M73,-215.7C73,-207.98 73,-198.71 73,-190.11\"/>\n",
       "<polygon fill=\"black\" stroke=\"black\" points=\"76.5,-190.1 73,-180.1 69.5,-190.1 76.5,-190.1\"/>\n",
       "</g>\n",
       "<!-- M -->\n",
       "<g id=\"node3\" class=\"node\">\n",
       "<title>M</title>\n",
       "<ellipse fill=\"none\" stroke=\"black\" cx=\"27\" cy=\"-90\" rx=\"27\" ry=\"18\"/>\n",
       "<text text-anchor=\"middle\" x=\"27\" y=\"-86.3\" font-family=\"Times New Roman,serif\" font-size=\"14.00\">M</text>\n",
       "</g>\n",
       "<!-- C&#45;&gt;M -->\n",
       "<g id=\"edge2\" class=\"edge\">\n",
       "<title>C&#45;&gt;M</title>\n",
       "<path fill=\"none\" stroke=\"black\" d=\"M59.79,-217.89C51.79,-207.85 42.17,-193.98 37,-180 29.68,-160.22 27.31,-136.42 26.7,-118.41\"/>\n",
       "<polygon fill=\"black\" stroke=\"black\" points=\"30.2,-118.23 26.52,-108.29 23.2,-118.35 30.2,-118.23\"/>\n",
       "</g>\n",
       "<!-- A&#45;&gt;M -->\n",
       "<g id=\"edge3\" class=\"edge\">\n",
       "<title>A&#45;&gt;M</title>\n",
       "<path fill=\"none\" stroke=\"black\" d=\"M62.56,-145.12C56.8,-136.34 49.52,-125.26 43.04,-115.42\"/>\n",
       "<polygon fill=\"black\" stroke=\"black\" points=\"45.81,-113.26 37.4,-106.82 39.96,-117.1 45.81,-113.26\"/>\n",
       "</g>\n",
       "<!-- I -->\n",
       "<g id=\"node4\" class=\"node\">\n",
       "<title>I</title>\n",
       "<ellipse fill=\"none\" stroke=\"black\" cx=\"82\" cy=\"-18\" rx=\"27\" ry=\"18\"/>\n",
       "<text text-anchor=\"middle\" x=\"82\" y=\"-14.3\" font-family=\"Times New Roman,serif\" font-size=\"14.00\">I</text>\n",
       "</g>\n",
       "<!-- M&#45;&gt;I -->\n",
       "<g id=\"edge6\" class=\"edge\">\n",
       "<title>M&#45;&gt;I</title>\n",
       "<path fill=\"none\" stroke=\"black\" d=\"M38.93,-73.81C46.21,-64.55 55.66,-52.52 63.85,-42.09\"/>\n",
       "<polygon fill=\"black\" stroke=\"black\" points=\"66.66,-44.18 70.09,-34.16 61.16,-39.86 66.66,-44.18\"/>\n",
       "</g>\n",
       "<!-- I&#45;&gt;C -->\n",
       "<g id=\"edge5\" class=\"edge\">\n",
       "<title>I&#45;&gt;C</title>\n",
       "<path fill=\"none\" stroke=\"black\" d=\"M89.61,-35.32C102.29,-64.77 124.83,-128.53 109,-180 105.71,-190.69 99.46,-201.15 93.07,-209.92\"/>\n",
       "<polygon fill=\"black\" stroke=\"black\" points=\"90.12,-208.02 86.75,-218.07 95.65,-212.31 90.12,-208.02\"/>\n",
       "</g>\n",
       "<!-- I&#45;&gt;A -->\n",
       "<g id=\"edge4\" class=\"edge\">\n",
       "<title>I&#45;&gt;A</title>\n",
       "<path fill=\"none\" stroke=\"black\" d=\"M80.91,-36.19C79.37,-60.42 76.56,-104.89 74.73,-133.68\"/>\n",
       "<polygon fill=\"black\" stroke=\"black\" points=\"71.23,-133.67 74.09,-143.87 78.21,-134.11 71.23,-133.67\"/>\n",
       "</g>\n",
       "</g>\n",
       "</svg>\n"
      ],
      "text/plain": [
       "<graphviz.graphs.Digraph at 0x202f9af58e0>"
      ]
     },
     "execution_count": 25,
     "metadata": {},
     "output_type": "execute_result"
    }
   ],
   "source": [
    "dot3 = Digraph()\n",
    "\n",
    "dot3.edge('C', 'A')\n",
    "dot3.edge('C', 'M')\n",
    "dot3.edge('A', 'M')\n",
    "dot3.edge('I', 'A')\n",
    "dot3.edge('I', 'C')\n",
    "dot3.edge('M', 'I')\n",
    "\n",
    "\n",
    "dot3"
   ]
  },
  {
   "cell_type": "code",
   "execution_count": 26,
   "id": "45ddc128",
   "metadata": {},
   "outputs": [
    {
     "name": "stdout",
     "output_type": "stream",
     "text": [
      "C 0\n",
      "A 5\n",
      "M 8\n",
      "I 17\n"
     ]
    }
   ],
   "source": [
    "#Runs Dijkstras alogorithm from C node \n",
    "w = G3.vertices[0]\n",
    "dijkstra(w, G3)\n",
    "\n",
    "for v3 in G3.vertices:\n",
    "    print(v3.value, v3.estD)"
   ]
  },
  {
   "cell_type": "code",
   "execution_count": 27,
   "id": "8f444de4",
   "metadata": {},
   "outputs": [
    {
     "name": "stdout",
     "output_type": "stream",
     "text": [
      "C 16\n",
      "A 0\n",
      "M 3\n",
      "I 12\n"
     ]
    }
   ],
   "source": [
    "#Runs Dijkstras alogorithm from A node \n",
    "w = G3.vertices[1]\n",
    "dijkstra(w, G3)\n",
    "\n",
    "for v3 in G3.vertices:\n",
    "    print(v3.value, v3.estD)"
   ]
  },
  {
   "cell_type": "code",
   "execution_count": 28,
   "id": "956f78ac",
   "metadata": {},
   "outputs": [
    {
     "name": "stdout",
     "output_type": "stream",
     "text": [
      "C 13\n",
      "A 15\n",
      "M 0\n",
      "I 9\n"
     ]
    }
   ],
   "source": [
    "#Runs Dijkstras alogorithm from M node \n",
    "w = G3.vertices[2]\n",
    "dijkstra(w, G3)\n",
    "\n",
    "for v3 in G3.vertices:\n",
    "    print(v3.value, v3.estD)"
   ]
  },
  {
   "cell_type": "code",
   "execution_count": 29,
   "id": "95d7bbfd",
   "metadata": {},
   "outputs": [
    {
     "name": "stdout",
     "output_type": "stream",
     "text": [
      "C 4\n",
      "A 6\n",
      "M 9\n",
      "I 0\n"
     ]
    }
   ],
   "source": [
    "#Runs Dijkstras alogorithm from I node \n",
    "w = G3.vertices[3]\n",
    "dijkstra(w, G3)\n",
    "\n",
    "for v3 in G3.vertices:\n",
    "    print(v3.value, v3.estD)"
   ]
  },
  {
   "cell_type": "code",
   "execution_count": 30,
   "id": "5bffc218",
   "metadata": {},
   "outputs": [
    {
     "name": "stdout",
     "output_type": "stream",
     "text": [
      "S 0\n",
      "E 8\n",
      "A 5\n",
      "D 9\n",
      "B 5\n",
      "C 7\n"
     ]
    }
   ],
   "source": [
    "#Runs Dijkstras alogorithm from S node \n",
    "w = G.vertices[0]\n",
    "dijkstra(w, G)\n",
    "\n",
    "for v in G.vertices:\n",
    "    print(v.value, v.estD)"
   ]
  },
  {
   "cell_type": "code",
   "execution_count": 31,
   "id": "c7439860",
   "metadata": {},
   "outputs": [
    {
     "name": "stdout",
     "output_type": "stream",
     "text": [
      "S inf\n",
      "E 0\n",
      "A -3\n",
      "D 1\n",
      "B -3\n",
      "C -1\n"
     ]
    }
   ],
   "source": [
    "#Runs Dijkstras alogorithm from E node \n",
    "w = G.vertices[1]\n",
    "dijkstra(w, G)\n",
    "\n",
    "for v in G.vertices:\n",
    "    print(v.value, v.estD)"
   ]
  },
  {
   "cell_type": "code",
   "execution_count": 32,
   "id": "7b00a95a",
   "metadata": {},
   "outputs": [
    {
     "name": "stdout",
     "output_type": "stream",
     "text": [
      "S inf\n",
      "E inf\n",
      "A -1\n",
      "D inf\n",
      "B -2\n",
      "C 0\n"
     ]
    }
   ],
   "source": [
    "#Runs Dijkstras alogorithm from C node \n",
    "w = G.vertices[5]\n",
    "dijkstra(w, G)\n",
    "\n",
    "for v in G.vertices:\n",
    "    print(v.value, v.estD)"
   ]
  },
  {
   "cell_type": "code",
   "execution_count": 33,
   "id": "c06af6c1",
   "metadata": {},
   "outputs": [
    {
     "name": "stdout",
     "output_type": "stream",
     "text": [
      "S inf\n",
      "E inf\n",
      "A 0\n",
      "D inf\n",
      "B 0\n",
      "C 2\n"
     ]
    }
   ],
   "source": [
    "#Runs Dijkstras alogorithm from A node \n",
    "w = G.vertices[2]\n",
    "dijkstra(w, G)\n",
    "\n",
    "for v in G.vertices:\n",
    "    print(v.value, v.estD)"
   ]
  },
  {
   "cell_type": "code",
   "execution_count": 34,
   "id": "03b57431",
   "metadata": {},
   "outputs": [
    {
     "name": "stdout",
     "output_type": "stream",
     "text": [
      "S inf\n",
      "E inf\n",
      "A -4\n",
      "D 0\n",
      "B -4\n",
      "C -2\n"
     ]
    }
   ],
   "source": [
    "#Runs Dijkstras alogorithm from D node \n",
    "w = G.vertices[3]\n",
    "dijkstra(w, G)\n",
    "\n",
    "for v in G.vertices:\n",
    "    print(v.value, v.estD)"
   ]
  },
  {
   "cell_type": "code",
   "execution_count": 35,
   "id": "5c0f5d3b",
   "metadata": {},
   "outputs": [
    {
     "name": "stdout",
     "output_type": "stream",
     "text": [
      "S inf\n",
      "E inf\n",
      "A 1\n",
      "D inf\n",
      "B 0\n",
      "C 3\n"
     ]
    }
   ],
   "source": [
    "#Runs Dijkstras alogorithm from B node \n",
    "w = G.vertices[4]\n",
    "dijkstra(w, G)\n",
    "\n",
    "for v in G.vertices:\n",
    "    print(v.value, v.estD)"
   ]
  },
  {
   "cell_type": "code",
   "execution_count": 36,
   "id": "b9832e75",
   "metadata": {},
   "outputs": [
    {
     "name": "stdout",
     "output_type": "stream",
     "text": [
      "S 0\n",
      "A 3\n",
      "B 4\n"
     ]
    }
   ],
   "source": [
    "#Runs Dijkstras alogorithm from S node in Graph 2\n",
    "w2 = G2.vertices[0]\n",
    "dijkstra(w2, G2)\n",
    "\n",
    "for v2 in G2.vertices:\n",
    "    print(v2.value, v2.estD)"
   ]
  },
  {
   "cell_type": "code",
   "execution_count": 37,
   "id": "250f7616",
   "metadata": {},
   "outputs": [
    {
     "name": "stdout",
     "output_type": "stream",
     "text": [
      "S inf\n",
      "A 0\n",
      "B inf\n"
     ]
    }
   ],
   "source": [
    "#Runs Dijkstras alogorithm from A node in Graph 2\n",
    "w2 = G2.vertices[1]\n",
    "dijkstra(w2, G2)\n",
    "\n",
    "for v2 in G2.vertices:\n",
    "    print(v2.value, v2.estD)"
   ]
  },
  {
   "cell_type": "code",
   "execution_count": 38,
   "id": "8f4a5d9b",
   "metadata": {},
   "outputs": [
    {
     "name": "stdout",
     "output_type": "stream",
     "text": [
      "S inf\n",
      "A -2\n",
      "B 0\n"
     ]
    }
   ],
   "source": [
    "#Runs Dijkstras alogorithm from B node in Graph 2\n",
    "w2 = G2.vertices[2]\n",
    "dijkstra(w2, G2)\n",
    "\n",
    "for v2 in G2.vertices:\n",
    "    print(v2.value, v2.estD)"
   ]
  },
  {
   "cell_type": "markdown",
   "id": "0022f18f",
   "metadata": {},
   "source": [
    "***"
   ]
  },
  {
   "cell_type": "markdown",
   "id": "authorized-brook",
   "metadata": {},
   "source": [
    "### <font color='red'> Activity 1: Code Reflections. </font>"
   ]
  },
  {
   "cell_type": "code",
   "execution_count": 382,
   "id": "creative-reply",
   "metadata": {},
   "outputs": [
    {
     "data": {
      "text/plain": [
       "\"\\nWe are now utilising weighted directed graphs. Out and in neighbours have been tweaked slightly to allow for weights. The node class has a new attribute for estimated distance.\\nDijkstra's algorithm allows us to find the shortest path between any two vertices of a graph. It starts from 1 specific vertex and cannot handle negative weights.\\nBoth G and G2 have negative weights and as such their outputs from Dijkstra's should not be trusted.\\nI have created a graph G3 which is has only positive weights. The output from Dijkstra from all 4 vertices can be trusted as accurate.\\nSince the graphs are directed an output of inf means that the algorithm is unable to reach that node. This is due to its location and directed edges.\\nWhen running Dijkstra's the inputted node distance will always be 0, as this represents the shortest distance to itself. This is evident for every Dijkstra run and for the negative weighted graphs it is the only \\nvalue that can be trusted.\\nThis implementation of Dijkstra's has a sure and unsure vertices array. It goes through the unsure array one by one updating the minimum distances until there are no more.\\nThen it updates u's neighbours and removes the vertices from the unsure array to the sure. \\n\""
      ]
     },
     "execution_count": 382,
     "metadata": {},
     "output_type": "execute_result"
    }
   ],
   "source": [
    "### TODO ###\n",
    "### Good Luck ###\n",
    "'''\n",
    "We are now utilising weighted directed graphs. Out and in neighbours have been tweaked slightly to allow for weights. The node class has a new attribute for estimated distance.\n",
    "Dijkstra's algorithm allows us to find the shortest path between any two vertices of a graph. It starts from 1 specific vertex and cannot handle negative weights.\n",
    "Both G and G2 have negative weights and as such their outputs from Dijkstra's should not be trusted.\n",
    "I have created a graph G3 which is has only positive weights. The output from Dijkstra from all 4 vertices can be trusted as accurate.\n",
    "Since the graphs are directed an output of inf means that the algorithm is unable to reach that node. This is due to its location and directed edges.\n",
    "When running Dijkstra's the inputted node distance will always be 0, as this represents the shortest distance to itself. This is evident for every Dijkstra run and for the negative weighted graphs it is the only \n",
    "value that can be trusted.\n",
    "This implementation of Dijkstra's has a sure and unsure vertices array. It goes through the unsure array one by one updating the minimum distances until there are no more.\n",
    "Then it updates u's neighbours and removes the vertices from the unsure array to the sure. \n",
    "'''"
   ]
  },
  {
   "cell_type": "markdown",
   "id": "f9b31a04",
   "metadata": {},
   "source": [
    "### <font color='red'> Activity 2: Modify above code to do Bellman-Ford. Make sure you test for negative cycles and compare its performance with Dijkstra. </font>"
   ]
  },
  {
   "cell_type": "code",
   "execution_count": null,
   "id": "63856edd",
   "metadata": {},
   "outputs": [],
   "source": [
    "'''\n",
    "Dijkstra Bellman-Ford Comparison:\n",
    "Both Dijkstra and Bellman-Ford are shortest path algorithms. Dijkstra is greedy in that it focuses on one node during exploration. Dijkstra is unable to accurately handle negative weights and if weights are\n",
    "changed it must be rerun. It is faster than Bellman-Ford. Bellman-Ford selects all nodes one by one and has some flexibility with changing weights. Bellman selects each node in a graph repeatedly until no \n",
    "changes occur. In Dijkstra nodes are labeleed as sure or unsure whereas in Bellman-Ford this does not occur. \n",
    "\n",
    "'''"
   ]
  },
  {
   "cell_type": "code",
   "execution_count": 39,
   "id": "8d176b03",
   "metadata": {},
   "outputs": [],
   "source": [
    "#### TODO ####\n",
    "### Good Luck ###\n",
    "\n",
    "'''\n",
    "APPROACH 1\n",
    "def bellman(w, G):\n",
    "    numberVertices = len(G.vertices)\n",
    "    #n-1 vertex\n",
    "    lastvertex =G.vertices[numberVertices-1]\n",
    "    \n",
    "    #Begins by setting all the vertices of the graph to 0\n",
    "    for v in G.vertices:\n",
    "        v.estD = math.inf\n",
    "    \n",
    "    #Start node set to 0\n",
    "    w.estD = 0\n",
    "    doneVertices = []\n",
    "    \n",
    "    for i in range (numberVertices-1):\n",
    "        for u in G.vertices:\n",
    "            for v, wt in u.getOutNeighborsWithWeights():\n",
    "                #Tests for negative Cycles\n",
    "                if u.estD != math.inf and u.estD + wt< v.estD:\n",
    "                    print(\"Negative Cycle\")\n",
    "                    return\n",
    "                if u.estD == wt < v.estD:\n",
    "                    v.estD = u.estD + wt\n",
    "                    \n",
    "        doneVertices.append(u)\n",
    "        return\n",
    "'''\n",
    "    \n",
    "def BellmanFord(w, G):\n",
    "    for v in G.vertices:\n",
    "        v.estD = math.inf\n",
    "    w.estD = 0\n",
    "    done = []\n",
    "    exploring = G.vertices[:]\n",
    "    \n",
    "    for i in range(0, len(G.vertices)):\n",
    "        for u in exploring:\n",
    "            for v, wt in u.getOutNeighborsWithWeights():\n",
    "                if u.estD != math.inf and u.estD + wt < v.estD:\n",
    "                    v.estD = u.estD + wt\n",
    "                #Tests for negative Cycles\n",
    "                if u.estD != math.inf and u.estD + wt< v.estD:\n",
    "                    print(\"Negative Cycle\")\n",
    "                    return\n",
    "                if u.estD + wt < v.estD:\n",
    "                    v.estD = u.estD + wt\n",
    "    \n"
   ]
  },
  {
   "cell_type": "code",
   "execution_count": 40,
   "id": "ffaa8ca5",
   "metadata": {},
   "outputs": [
    {
     "name": "stdout",
     "output_type": "stream",
     "text": [
      "S inf\n",
      "A 0\n",
      "B inf\n"
     ]
    }
   ],
   "source": [
    "w2 = G2.vertices[1]\n",
    "BellmanFord(w2, G2)\n",
    "\n",
    "for v2 in G2.vertices:\n",
    "    print(v2.value, v2.estD)\n"
   ]
  },
  {
   "cell_type": "code",
   "execution_count": 41,
   "id": "a52ee4ef",
   "metadata": {},
   "outputs": [
    {
     "name": "stdout",
     "output_type": "stream",
     "text": [
      "C 0\n",
      "A 5\n",
      "M 8\n",
      "I 17\n"
     ]
    }
   ],
   "source": [
    "w= G3.vertices[0]\n",
    "BellmanFord(w, G3)\n",
    "\n",
    "for v3 in G3.vertices:\n",
    "    print(v3.value, v3.estD)"
   ]
  },
  {
   "cell_type": "code",
   "execution_count": 42,
   "id": "ccfaf525",
   "metadata": {},
   "outputs": [
    {
     "name": "stdout",
     "output_type": "stream",
     "text": [
      "S inf\n",
      "A -2\n",
      "B 0\n"
     ]
    }
   ],
   "source": [
    "w2 = G2.vertices[2]\n",
    "BellmanFord(w2, G2)\n",
    "\n",
    "for v2 in G2.vertices:\n",
    "    print(v2.value, v2.estD)"
   ]
  },
  {
   "cell_type": "code",
   "execution_count": 43,
   "id": "0fae9926",
   "metadata": {},
   "outputs": [
    {
     "name": "stdout",
     "output_type": "stream",
     "text": [
      "S 0\n",
      "E 8\n",
      "A 5\n",
      "D 9\n",
      "B 5\n",
      "C 7\n"
     ]
    }
   ],
   "source": [
    "w= G.vertices[0]\n",
    "BellmanFord(w,G)\n",
    "\n",
    "for v in G.vertices:\n",
    "    print(v.value, v.estD)"
   ]
  },
  {
   "cell_type": "code",
   "execution_count": 44,
   "id": "85449195",
   "metadata": {},
   "outputs": [
    {
     "name": "stdout",
     "output_type": "stream",
     "text": [
      "C 0\n",
      "A 5\n",
      "M 8\n",
      "I 17\n"
     ]
    }
   ],
   "source": [
    "w= G3.vertices[0]\n",
    "BellmanFord(w, G3)\n",
    "\n",
    "for v3 in G3.vertices:\n",
    "    print(v3.value, v3.estD)"
   ]
  },
  {
   "cell_type": "markdown",
   "id": "cleared-claim",
   "metadata": {},
   "source": [
    "### <font color='red'> Activity 3: Have a look at the following Python's implementation of heap (priority Queues): HeapDict, and try to convert our Dijkstra's implementation to use this heap data structure instead. </font>"
   ]
  },
  {
   "cell_type": "code",
   "execution_count": 45,
   "id": "1722b266",
   "metadata": {},
   "outputs": [],
   "source": [
    "import heapq as heap\n",
    "from collections import defaultdict\n",
    "#from heapdict import heapdict\n",
    "import heapdict as heap"
   ]
  },
  {
   "cell_type": "code",
   "execution_count": 46,
   "id": "personal-bernard",
   "metadata": {},
   "outputs": [],
   "source": [
    "### TODO ###\n",
    "### Good Luck ###\n",
    "#Algorithm to find the shortest path between a node to all other nodes \n",
    "\n",
    "'''\n",
    "APPROACH 1\n",
    "def dijkstraH(w, G):\n",
    "    \n",
    "    \n",
    "    for v in G.vertices:\n",
    "        v.estD = math.inf\n",
    "        \n",
    "    w.estD = 0\n",
    "    visited = set ()\n",
    "    \n",
    "    parentsMap = {}\n",
    "    pq = []\n",
    "    \n",
    "    vertexCosts = defaultdict(lambda: float ('inf'))\n",
    "    heap.heappush(pq, (0, w))\n",
    "    \n",
    "    while pq:\n",
    "        _, node = heap.heappop(pq)\n",
    "        visited.add(G.vertices)\n",
    "        \n",
    "        for adjNode, weight in G[node].items():\n",
    "            if adjNode in visited: continue\n",
    "                \n",
    "            newCost = vertexCosts[node] + weight\n",
    "            if vertexCosts[adjNode] > newCost:\n",
    "                parentsMap[adjNode] = node\n",
    "                vertexCosts[adjNode] = newCost\n",
    "                heap.heappush(pq, (newCost, adjNode))\n",
    "                    \n",
    "                    \n",
    "            return parentsMap, vertexCosts\n",
    "    \n",
    "\n",
    "'''\n",
    "\n",
    "def dijkstraH(w, G):\n",
    "    #Returns dict of (vertex -> dist) pairs \n",
    "    dist = {}\n",
    "    prev = {}\n",
    "    \n",
    "    #Probably unnecessary\n",
    "  #  w.estD = 0\n",
    "    \n",
    "    #Makes w 0 \n",
    "    dist[w]= 0\n",
    "    \n",
    "    q = heap.heapdict()\n",
    "    \n",
    "    for v in G.vertices:\n",
    "        if v != w:\n",
    "            dist[v] = math.inf\n",
    "        q[v] = dist[v]\n",
    "   \n",
    "    while len(q):        \n",
    "        u = q.popitem()[0]\n",
    "        \n",
    "        for v, wt in u.getOutNeighborsWithWeights():\n",
    "            alt = dist[u] + wt \n",
    "\n",
    "            \n",
    "            if alt < dist[v]:\n",
    "                dist[v] = alt\n",
    "                q[v] = alt\n",
    "                \n",
    "    return dist \n"
   ]
  },
  {
   "cell_type": "code",
   "execution_count": 47,
   "id": "81df073a",
   "metadata": {},
   "outputs": [
    {
     "name": "stdout",
     "output_type": "stream",
     "text": [
      "A 0\n",
      "C 16\n",
      "M 3\n",
      "I 12\n"
     ]
    }
   ],
   "source": [
    "w= G3.vertices[1]\n",
    "\n",
    "dist = dijkstraH(w, G3)\n",
    "\n",
    "for k,v in dist.items():\n",
    "    print(k,v)"
   ]
  },
  {
   "cell_type": "code",
   "execution_count": 48,
   "id": "e577a0ad",
   "metadata": {},
   "outputs": [
    {
     "name": "stdout",
     "output_type": "stream",
     "text": [
      "C 0\n",
      "A 5\n",
      "M 8\n",
      "I 17\n"
     ]
    }
   ],
   "source": [
    "w= G3.vertices[0]\n",
    "\n",
    "dist = dijkstraH(w, G3)\n",
    "\n",
    "for k,v in dist.items():\n",
    "    print(k,v)"
   ]
  },
  {
   "cell_type": "code",
   "execution_count": 49,
   "id": "2c579993",
   "metadata": {},
   "outputs": [
    {
     "name": "stdout",
     "output_type": "stream",
     "text": [
      "M 0\n",
      "C 13\n",
      "A 15\n",
      "I 9\n"
     ]
    }
   ],
   "source": [
    "w= G3.vertices[2]\n",
    "dist = dijkstraH(w, G3)\n",
    "\n",
    "for k,v in dist.items():\n",
    "    print(k,v)"
   ]
  },
  {
   "cell_type": "code",
   "execution_count": 50,
   "id": "e1635af9",
   "metadata": {},
   "outputs": [
    {
     "name": "stdout",
     "output_type": "stream",
     "text": [
      "I 0\n",
      "C 4\n",
      "A 6\n",
      "M 9\n"
     ]
    }
   ],
   "source": [
    "w= G3.vertices[3]\n",
    "dist = dijkstraH(w, G3)\n",
    "\n",
    "for k,v in dist.items():\n",
    "    print(k,v)"
   ]
  },
  {
   "cell_type": "markdown",
   "id": "9c64f77d",
   "metadata": {},
   "source": [
    "***"
   ]
  },
  {
   "cell_type": "markdown",
   "id": "a85ea894",
   "metadata": {},
   "source": [
    "### Section 4: Dynammc Programming"
   ]
  },
  {
   "cell_type": "markdown",
   "id": "7f7a5d29",
   "metadata": {},
   "source": [
    "We discussed Fibonacci numbers sequence as a good example of Dynamic Programming. Let us have a look at its computation."
   ]
  },
  {
   "cell_type": "code",
   "execution_count": 51,
   "id": "91575189",
   "metadata": {},
   "outputs": [],
   "source": [
    "#A recursive strategy is not the best option here since the time complexity of n will grow as fast as the numbers themselves. Growth is exponential. We are repeating one calculation over and over again.\n",
    "#T(n) = T(n-1) + T(n-2) + O(1)\n",
    "#T(n)≥ T(n-1) + T(n-2) for n≥ 2\n",
    "#Test case for a number as low as 28 started to slow substantially\n",
    "def Fibonacci(n):\n",
    "    if n == 0 or n == 1:\n",
    "        return 1\n",
    "    return Fibonacci(n-1) + Fibonacci(n-2)               "
   ]
  },
  {
   "cell_type": "code",
   "execution_count": 52,
   "id": "ac092fc2",
   "metadata": {},
   "outputs": [
    {
     "data": {
      "text/plain": [
       "1"
      ]
     },
     "execution_count": 52,
     "metadata": {},
     "output_type": "execute_result"
    }
   ],
   "source": [
    "Fibonacci(1)"
   ]
  },
  {
   "cell_type": "code",
   "execution_count": 53,
   "id": "77171138",
   "metadata": {},
   "outputs": [
    {
     "data": {
      "text/plain": [
       "2"
      ]
     },
     "execution_count": 53,
     "metadata": {},
     "output_type": "execute_result"
    }
   ],
   "source": [
    "Fibonacci(2)"
   ]
  },
  {
   "cell_type": "code",
   "execution_count": 54,
   "id": "1465848a",
   "metadata": {},
   "outputs": [
    {
     "data": {
      "text/plain": [
       "5"
      ]
     },
     "execution_count": 54,
     "metadata": {},
     "output_type": "execute_result"
    }
   ],
   "source": [
    "Fibonacci(4)"
   ]
  },
  {
   "cell_type": "code",
   "execution_count": 55,
   "id": "1942ef22",
   "metadata": {},
   "outputs": [
    {
     "data": {
      "text/plain": [
       "8"
      ]
     },
     "execution_count": 55,
     "metadata": {},
     "output_type": "execute_result"
    }
   ],
   "source": [
    "Fibonacci(5)"
   ]
  },
  {
   "cell_type": "code",
   "execution_count": 56,
   "id": "f7fed188",
   "metadata": {},
   "outputs": [
    {
     "data": {
      "text/plain": [
       "13"
      ]
     },
     "execution_count": 56,
     "metadata": {},
     "output_type": "execute_result"
    }
   ],
   "source": [
    "Fibonacci(6)"
   ]
  },
  {
   "cell_type": "code",
   "execution_count": 57,
   "id": "957e7e7f",
   "metadata": {},
   "outputs": [
    {
     "data": {
      "text/plain": [
       "21"
      ]
     },
     "execution_count": 57,
     "metadata": {},
     "output_type": "execute_result"
    }
   ],
   "source": [
    "Fibonacci(7)"
   ]
  },
  {
   "cell_type": "code",
   "execution_count": 58,
   "id": "9181c15c",
   "metadata": {},
   "outputs": [
    {
     "data": {
      "text/plain": [
       "34"
      ]
     },
     "execution_count": 58,
     "metadata": {},
     "output_type": "execute_result"
    }
   ],
   "source": [
    "Fibonacci(8)"
   ]
  },
  {
   "cell_type": "code",
   "execution_count": 59,
   "id": "235e93da",
   "metadata": {},
   "outputs": [
    {
     "data": {
      "text/plain": [
       "55"
      ]
     },
     "execution_count": 59,
     "metadata": {},
     "output_type": "execute_result"
    }
   ],
   "source": [
    "Fibonacci(9)"
   ]
  },
  {
   "cell_type": "code",
   "execution_count": 60,
   "id": "f784111d",
   "metadata": {},
   "outputs": [
    {
     "data": {
      "text/plain": [
       "89"
      ]
     },
     "execution_count": 60,
     "metadata": {},
     "output_type": "execute_result"
    }
   ],
   "source": [
    "Fibonacci(10)"
   ]
  },
  {
   "cell_type": "code",
   "execution_count": 61,
   "id": "06f6451a",
   "metadata": {},
   "outputs": [
    {
     "data": {
      "text/plain": [
       "144"
      ]
     },
     "execution_count": 61,
     "metadata": {},
     "output_type": "execute_result"
    }
   ],
   "source": [
    "Fibonacci(11)"
   ]
  },
  {
   "cell_type": "code",
   "execution_count": 62,
   "id": "bf46bc70",
   "metadata": {},
   "outputs": [
    {
     "data": {
      "text/plain": [
       "1346269"
      ]
     },
     "execution_count": 62,
     "metadata": {},
     "output_type": "execute_result"
    }
   ],
   "source": [
    "#Begins to slow substantially after n = 28 \n",
    "Fibonacci(30)"
   ]
  },
  {
   "cell_type": "code",
   "execution_count": 63,
   "id": "61aff298",
   "metadata": {},
   "outputs": [],
   "source": [
    "#Non recursive option uses lists instead. Much better runtime (goes from exponential to almost linear).\n",
    "#Solves the sub problems F(0), F(1), then bigger problems F(2), ... then bigger problems F(n-1) up until F(n)\n",
    "#A form of dynamic programming (Bottom up)\n",
    "#No lag in test cases with n=25000\n",
    "def fasterFibonacci(n):\n",
    "    \n",
    "    F = [1 for i in range(n+1)]\n",
    "\n",
    "    for i in range(2,n+1):\n",
    "        F[i] = F[i-1] + F[i-2]\n",
    "    return F[n]"
   ]
  },
  {
   "cell_type": "code",
   "execution_count": 64,
   "id": "325cf06c",
   "metadata": {},
   "outputs": [
    {
     "data": {
      "text/plain": [
       "3"
      ]
     },
     "execution_count": 64,
     "metadata": {},
     "output_type": "execute_result"
    }
   ],
   "source": [
    "fasterFibonacci(3)"
   ]
  },
  {
   "cell_type": "code",
   "execution_count": 65,
   "id": "d50cb0b2",
   "metadata": {},
   "outputs": [
    {
     "data": {
      "text/plain": [
       "5"
      ]
     },
     "execution_count": 65,
     "metadata": {},
     "output_type": "execute_result"
    }
   ],
   "source": [
    "fasterFibonacci(4)"
   ]
  },
  {
   "cell_type": "code",
   "execution_count": 66,
   "id": "ad2f3c65",
   "metadata": {},
   "outputs": [
    {
     "data": {
      "text/plain": [
       "8"
      ]
     },
     "execution_count": 66,
     "metadata": {},
     "output_type": "execute_result"
    }
   ],
   "source": [
    "fasterFibonacci(5)"
   ]
  },
  {
   "cell_type": "code",
   "execution_count": 67,
   "id": "a603457a",
   "metadata": {},
   "outputs": [
    {
     "data": {
      "text/plain": [
       "13"
      ]
     },
     "execution_count": 67,
     "metadata": {},
     "output_type": "execute_result"
    }
   ],
   "source": [
    "fasterFibonacci(6)"
   ]
  },
  {
   "cell_type": "code",
   "execution_count": 68,
   "id": "667a484e",
   "metadata": {},
   "outputs": [
    {
     "data": {
      "text/plain": [
       "21"
      ]
     },
     "execution_count": 68,
     "metadata": {},
     "output_type": "execute_result"
    }
   ],
   "source": [
    "fasterFibonacci(7)"
   ]
  },
  {
   "cell_type": "code",
   "execution_count": 69,
   "id": "e6145cff",
   "metadata": {},
   "outputs": [
    {
     "data": {
      "text/plain": [
       "34"
      ]
     },
     "execution_count": 69,
     "metadata": {},
     "output_type": "execute_result"
    }
   ],
   "source": [
    "fasterFibonacci(8)"
   ]
  },
  {
   "cell_type": "code",
   "execution_count": 70,
   "id": "d0ceab8f",
   "metadata": {},
   "outputs": [
    {
     "data": {
      "text/plain": [
       "55"
      ]
     },
     "execution_count": 70,
     "metadata": {},
     "output_type": "execute_result"
    }
   ],
   "source": [
    "fasterFibonacci(9)"
   ]
  },
  {
   "cell_type": "code",
   "execution_count": 71,
   "id": "9a545b82",
   "metadata": {},
   "outputs": [
    {
     "data": {
      "text/plain": [
       "89"
      ]
     },
     "execution_count": 71,
     "metadata": {},
     "output_type": "execute_result"
    }
   ],
   "source": [
    "fasterFibonacci(10)"
   ]
  },
  {
   "cell_type": "code",
   "execution_count": 72,
   "id": "353134c7",
   "metadata": {},
   "outputs": [
    {
     "data": {
      "text/plain": [
       "144"
      ]
     },
     "execution_count": 72,
     "metadata": {},
     "output_type": "execute_result"
    }
   ],
   "source": [
    "fasterFibonacci(11)"
   ]
  },
  {
   "cell_type": "code",
   "execution_count": 73,
   "id": "988ba220",
   "metadata": {},
   "outputs": [
    {
     "data": {
      "text/plain": [
       "514229"
      ]
     },
     "execution_count": 73,
     "metadata": {},
     "output_type": "execute_result"
    }
   ],
   "source": [
    "fasterFibonacci(28)"
   ]
  },
  {
   "cell_type": "code",
   "execution_count": 74,
   "id": "e97a4324",
   "metadata": {},
   "outputs": [
    {
     "data": {
      "text/plain": [
       "420196140727489673"
      ]
     },
     "execution_count": 74,
     "metadata": {},
     "output_type": "execute_result"
    }
   ],
   "source": [
    "fasterFibonacci(85)"
   ]
  },
  {
   "cell_type": "code",
   "execution_count": 75,
   "id": "aefd1127",
   "metadata": {},
   "outputs": [
    {
     "data": {
      "text/plain": [
       "573147844013817084101"
      ]
     },
     "execution_count": 75,
     "metadata": {},
     "output_type": "execute_result"
    }
   ],
   "source": [
    "fasterFibonacci(100)"
   ]
  },
  {
   "cell_type": "code",
   "execution_count": 76,
   "id": "106be8e5",
   "metadata": {},
   "outputs": [
    {
     "data": {
      "text/plain": [
       "359579325206583560961765665172189099052367214309267232255589801"
      ]
     },
     "execution_count": 76,
     "metadata": {},
     "output_type": "execute_result"
    }
   ],
   "source": [
    "fasterFibonacci(300)"
   ]
  },
  {
   "cell_type": "code",
   "execution_count": 77,
   "id": "79b010ce",
   "metadata": {},
   "outputs": [
    {
     "data": {
      "text/plain": [
       "88793027306605937532517516910637647045239090036365766884466525589158360259770006891772711976920559280382807770394537471560061517120086971996377683290300054868066659454250625417891167369401"
      ]
     },
     "execution_count": 77,
     "metadata": {},
     "output_type": "execute_result"
    }
   ],
   "source": [
    "fasterFibonacci(900)"
   ]
  },
  {
   "cell_type": "code",
   "execution_count": 78,
   "id": "730b6b1e",
   "metadata": {},
   "outputs": [
    {
     "data": {
      "text/plain": [
       "6835702259575806647045396549170580107055408029365524565407553367798082454408054014954534318953113802726603726769523447478238192192714526677939943338306101405105414819705664090901813637296453767095528104868264704914433529355579148731044685634135487735897954629842516947101494253575869699893400976539545740214819819151952085089538422954565146720383752121972115725761141759114990448978941370030912401573418221496592822626"
      ]
     },
     "execution_count": 78,
     "metadata": {},
     "output_type": "execute_result"
    }
   ],
   "source": [
    "fasterFibonacci(2000)"
   ]
  },
  {
   "cell_type": "code",
   "execution_count": 79,
   "id": "5ed78c34",
   "metadata": {},
   "outputs": [
    {
     "data": {
      "text/plain": [
       "64574884490948173531376949015369595644413900640151342708407577598177210359034088914449477807287241743760741523783818897499227009742183152482019062763550798743704275106856470216307593623057388506776767202069670477506088895294300509291166023947866841763853953813982281703936665369922709095308006821399524780721049955829191407029943622087779296459174012610148659520381170452591141331949336080577141708645783606636081941915217355115810993973945783493983844592749672661361548061615756595818944317619922097369917676974058206341892088144549337974422952140132621568340701016273422727827762726153066303093052982051757444742428033107522419466219655780413101759505231617222578292486081002391218785189299675757766920269402348733644662725774717740924068828300186439425921761082545463164628807702653752619616157324434040342057336683279284098590801501"
      ]
     },
     "execution_count": 79,
     "metadata": {},
     "output_type": "execute_result"
    }
   ],
   "source": [
    "fasterFibonacci(4000)"
   ]
  },
  {
   "cell_type": "code",
   "execution_count": 80,
   "id": "2916316f",
   "metadata": {},
   "outputs": [
    {
     "data": {
      "text/plain": [
       "54438373113565281338734260993750380135389184554695967026247715841208582865622349017083051547938960541173822675978026317384359584751116241439174702642959169925586334117906063048089793531476108466259072759367899150677960088306597966641965824937721800381441158841042480997984696487375337180028163763317781927941101369262750979509800713596718023814710669912644214775254478587674568963808002962265133111359929762726679441400101575800043510777465935805362502461707918059226414679005690752321895868142367849593880756423483754386342639635970733756260098962462668746112041739819404875062443709868654315626847186195620146126642232711815040367018825205314845875817193533529827837800351902529239517836689467661917953884712441028463935449484614450778762529520961887597272889220768537396475869543159172434537193611263743926337313005896167248051737986306368115003088396749587102619524631352447499505204198305187168321623283859794627245919771454628218399695789223798912199431775469705216131081096559950638297261253848242007897109054754028438149611930465061866170122983288964352733750792786069444761853525144421077928045979904561298129423809156055033032338919609162236698759922782923191896688017718575555520994653320128446502371153715141749290913104897203455577507196645425232862022019506091483585223882711016708433051169942115775151255510251655931888164048344129557038825477521111577395780115868397072602565614824956460538700280331311861485399805397031555727529693399586079850381581446276433858828529535803424850845426446471681531001533180479567436396815653326152509571127480411928196022148849148284389124178520174507305538928717857923509417743383331506898239354421988805429332440371194867215543576548565499134519271098919802665184564927827827212957649240235507595558205647569365394873317659000206373126570643509709482649710038733517477713403319028105575667931789470024118803094604034362953471997461392274791549730356412633074230824051999996101549784667340458326852960388301120765629245998136251652347093963049734046445106365304163630823669242257761468288461791843224793434406079917883360676846711185597501"
      ]
     },
     "execution_count": 80,
     "metadata": {},
     "output_type": "execute_result"
    }
   ],
   "source": [
    "fasterFibonacci(10000)"
   ]
  },
  {
   "cell_type": "code",
   "execution_count": 81,
   "id": "8ba7cde3",
   "metadata": {},
   "outputs": [
    {
     "data": {
      "text/plain": [
       "35522938794321715091272953991088875073660950670711879743399900326436254083421380378927750257524675311447286915610820861302904371152466182968261111009824391725637150862745505342130220586979511719255023895335108709522075314248260664483166479670588221585277069887873168196490963561219694518077864879100421788205515385380434545975662001723555342440392621808579760295648531141638822913590607533540054087452041707826153271185259107394199852367649618298517093117009455894918353503525076230125819543123779319167440820789626564459764725339684808290073756385496248142195843240135064507885354877296572024804408624272941753639812538039913142028651903030529871116793317789757893606550341466951324756526825899737667945813833853722262630433262780974915425005732866591818868174705546087022106127052877310847951571707582794820376128579789767721485109492542287764348615868723395725124814856415577763540656765591673162724146048330852788081439178288706881889502843933839383437965572895385440792960391702268984769357859686271266574632871727046024303184663919395401465801528726015901456333025573481247959101652204602988035141532490361245742139050819433077833707742246312835208439293469725777437940254819086871672146128972238328251414589544434435170261367824782155103657578194196270111748570034449297964612564456266891635499257186520205662004190179581465184858273590634696557067719668344569716772604494379268256417559005989196664062339943367426392267549671696091620704483335705235401024668972377058959013548701899237423163317609813480075906438821567501678027453981255872940165896765562906948275888682233026018398591561683968279253311810352982216449990605138841279476258998291555393112171672512247299540528273985304628059093340049555047981741901553118436996372565143437092164040501385121979087826864836002852441013290435451405818936965791830088594057993174801701555239838033825491101182302604693483923297155552732646664230339899386949247469662146601783799159535265663192798622519600080199294778264021930327804674406845390858689361183645138036024622999759181149374409868339056190354930762438018253181839721998646473911299168577029520666199783681191268719288387969624745653240780708319950931159323616116725759084631179863296728766212415593748082930558151101350076376704295363472805637813559350925898715117938481138744212886965977892516525139040863376874438253015614485120277306681922196720541898193702570355885540352668267759850827312025869672621201575016416207760471674541668295376322809412095582968275396449970226064500618788480102243996614437085271546164050332641040829307354667753670012241015315160013952802535500838629086649248253271677865717482331893600871123634025348607623548331397239596180750809096946397974233223417735790158178612741331748855629088340732705900553246041710742016160018303725512211509204034880759596775427996675371964469431717567054234107252511625358715489171574578479304777517899774723598872665991091538945488811618222438651723224465992160327444696552759313881273021480919406887970238509074105071808066821703115066838126027585207922256205186141921352880657758551963602504587265334948468963725795943612659061581738118921217900480358979991209140061985794462152498458564473369295078153567296201818251720281822962062936831573631653751528074225190111823253702351177610664803940345503699699208037095784870495785646943997234474258262569998608041243140247674073513323374199936066218946098722092264140092669753657824017634461763981521997119226219136508584203375683292957948563073632975937642581947768042371117470198355444599517718979158713784804470849343173517943800269775988799065209263727016757620989100649249277790139290067789688270481157537247255077854388424596882337360026236416764073030845206282134294301701605369452555608749844089881840152464688185413471165531348083450071936767808847178828505212544681448346850412422392584457798023562617507156540143036586660455094150665003248778589943633804236061867787254092465761897721097498706848304838082130151573830146281598905862080528755999259386441406295844212093958532689277331339576745477613093048842162872506248493879631984787279577095875465635013803960469019743694441996546910736934590725390122252181310568062868015617422771375425422209106466232597689466636780861666245204430735375550444974466951762888881642801337840709202391876433786768647147807880162471534334272202034098411011768290957484345424507121327462388443014612800575348423810123382495642833743034606424879522789397956839996920113680951463518836156462019057063161795046895734075593501902084338246542048532779483281408634769806186279989881229648075555962086774926497206070780542404761166097604241890965888018873735027199940548827053350115337885438800728312460914286268127990478092896975620706029422142841447344514680046143167682001640750053397540223424322177217456434741847020047763710403144096996427837529811812126999093061373016438435440619803496909856986800826405322182728111872725881192065183612822832173197471616932926246556344247662468294551754101114527143077792003917544284111176961413199426663155326179333146951914261328112918116870606040456416800180399145364936151721824514256765308265696290759951243242140057433018143404698921069198350343599629915865217541917472815612277351716569260985624821969133328022587501"
      ]
     },
     "execution_count": 81,
     "metadata": {},
     "output_type": "execute_result"
    }
   ],
   "source": [
    "fasterFibonacci(25000)"
   ]
  },
  {
   "cell_type": "code",
   "execution_count": 82,
   "id": "41e606a0",
   "metadata": {},
   "outputs": [],
   "source": [
    "#A top down dynamic programming approach\n",
    "#Uses memoization (keeping track of the stuff that has been done already)\n",
    "#Also almost linear in runtime\n",
    "def Fibonacci_topdown(n,F):\n",
    "    \n",
    "    if F[n] != None:\n",
    "        return F[n]\n",
    "    \n",
    "    F[n] = Fibonacci_topdown(n-1, F) + Fibonacci_topdown(n-2, F)\n",
    "\n",
    "    return F[n]"
   ]
  },
  {
   "cell_type": "code",
   "execution_count": 83,
   "id": "ac8cb923",
   "metadata": {},
   "outputs": [],
   "source": [
    "F = [0, 1, 1, 2, 3, 5, 8, 13, 21, 3, 4, 55, 89]"
   ]
  },
  {
   "cell_type": "code",
   "execution_count": 84,
   "id": "5f1801e4",
   "metadata": {},
   "outputs": [],
   "source": [
    "F2 = [1346269, 2178309, 3524578, 5702887, 9227465, 14930352, 24157817, 39088169, 63245986, 102334155, 165580141, 267914296, 433494437, 701408733, 1134903170]"
   ]
  },
  {
   "cell_type": "code",
   "execution_count": 85,
   "id": "4768925f",
   "metadata": {},
   "outputs": [],
   "source": [
    "F3 = [0, 1, 1, 2, 3, 5, 8, 13, 21, 34, 55, 89, 144, 233, 377, 610, 987, 1597, 2584, 4181]"
   ]
  },
  {
   "cell_type": "markdown",
   "id": "0a59fb44",
   "metadata": {},
   "source": [
    "# List F Test Cases"
   ]
  },
  {
   "cell_type": "code",
   "execution_count": 86,
   "id": "ba647a1c",
   "metadata": {},
   "outputs": [
    {
     "name": "stdout",
     "output_type": "stream",
     "text": [
      "13\n"
     ]
    }
   ],
   "source": [
    "print(len(F))"
   ]
  },
  {
   "cell_type": "code",
   "execution_count": 87,
   "id": "81ad8f40",
   "metadata": {},
   "outputs": [
    {
     "data": {
      "text/plain": [
       "1"
      ]
     },
     "execution_count": 87,
     "metadata": {},
     "output_type": "execute_result"
    }
   ],
   "source": [
    "Fibonacci_topdown(1, F)"
   ]
  },
  {
   "cell_type": "code",
   "execution_count": 88,
   "id": "7ff08fe4",
   "metadata": {},
   "outputs": [
    {
     "data": {
      "text/plain": [
       "1"
      ]
     },
     "execution_count": 88,
     "metadata": {},
     "output_type": "execute_result"
    }
   ],
   "source": [
    "Fibonacci_topdown(2, F)"
   ]
  },
  {
   "cell_type": "code",
   "execution_count": 89,
   "id": "1b0e839f",
   "metadata": {},
   "outputs": [
    {
     "data": {
      "text/plain": [
       "2"
      ]
     },
     "execution_count": 89,
     "metadata": {},
     "output_type": "execute_result"
    }
   ],
   "source": [
    "Fibonacci_topdown(3, F)"
   ]
  },
  {
   "cell_type": "code",
   "execution_count": 90,
   "id": "49107df1",
   "metadata": {},
   "outputs": [
    {
     "data": {
      "text/plain": [
       "3"
      ]
     },
     "execution_count": 90,
     "metadata": {},
     "output_type": "execute_result"
    }
   ],
   "source": [
    "Fibonacci_topdown(4, F)"
   ]
  },
  {
   "cell_type": "code",
   "execution_count": 91,
   "id": "c8eae5c9",
   "metadata": {},
   "outputs": [
    {
     "data": {
      "text/plain": [
       "5"
      ]
     },
     "execution_count": 91,
     "metadata": {},
     "output_type": "execute_result"
    }
   ],
   "source": [
    "Fibonacci_topdown(5, F)"
   ]
  },
  {
   "cell_type": "code",
   "execution_count": 92,
   "id": "98c9e1f1",
   "metadata": {},
   "outputs": [
    {
     "data": {
      "text/plain": [
       "8"
      ]
     },
     "execution_count": 92,
     "metadata": {},
     "output_type": "execute_result"
    }
   ],
   "source": [
    "Fibonacci_topdown(6, F)"
   ]
  },
  {
   "cell_type": "code",
   "execution_count": 93,
   "id": "d7407cc1",
   "metadata": {},
   "outputs": [
    {
     "data": {
      "text/plain": [
       "13"
      ]
     },
     "execution_count": 93,
     "metadata": {},
     "output_type": "execute_result"
    }
   ],
   "source": [
    "Fibonacci_topdown(7, F)"
   ]
  },
  {
   "cell_type": "code",
   "execution_count": 94,
   "id": "d89a80ec",
   "metadata": {},
   "outputs": [
    {
     "data": {
      "text/plain": [
       "0"
      ]
     },
     "execution_count": 94,
     "metadata": {},
     "output_type": "execute_result"
    }
   ],
   "source": [
    "Fibonacci_topdown(0, F)"
   ]
  },
  {
   "cell_type": "code",
   "execution_count": 95,
   "id": "129cc639",
   "metadata": {},
   "outputs": [
    {
     "data": {
      "text/plain": [
       "3"
      ]
     },
     "execution_count": 95,
     "metadata": {},
     "output_type": "execute_result"
    }
   ],
   "source": [
    "Fibonacci_topdown(9, F)"
   ]
  },
  {
   "cell_type": "markdown",
   "id": "0589fe73",
   "metadata": {},
   "source": [
    "# List F2 Test Cases"
   ]
  },
  {
   "cell_type": "code",
   "execution_count": 96,
   "id": "e670683e",
   "metadata": {},
   "outputs": [
    {
     "name": "stdout",
     "output_type": "stream",
     "text": [
      "15\n"
     ]
    }
   ],
   "source": [
    "print(len(F2))"
   ]
  },
  {
   "cell_type": "code",
   "execution_count": 97,
   "id": "392b0845",
   "metadata": {},
   "outputs": [
    {
     "data": {
      "text/plain": [
       "1346269"
      ]
     },
     "execution_count": 97,
     "metadata": {},
     "output_type": "execute_result"
    }
   ],
   "source": [
    "Fibonacci_topdown(0, F2)"
   ]
  },
  {
   "cell_type": "code",
   "execution_count": 98,
   "id": "0a3b1d39",
   "metadata": {},
   "outputs": [
    {
     "data": {
      "text/plain": [
       "2178309"
      ]
     },
     "execution_count": 98,
     "metadata": {},
     "output_type": "execute_result"
    }
   ],
   "source": [
    "Fibonacci_topdown(1, F2)"
   ]
  },
  {
   "cell_type": "code",
   "execution_count": 99,
   "id": "2b569494",
   "metadata": {},
   "outputs": [
    {
     "data": {
      "text/plain": [
       "3524578"
      ]
     },
     "execution_count": 99,
     "metadata": {},
     "output_type": "execute_result"
    }
   ],
   "source": [
    "Fibonacci_topdown(2, F2)"
   ]
  },
  {
   "cell_type": "code",
   "execution_count": 100,
   "id": "9913f300",
   "metadata": {},
   "outputs": [
    {
     "data": {
      "text/plain": [
       "5702887"
      ]
     },
     "execution_count": 100,
     "metadata": {},
     "output_type": "execute_result"
    }
   ],
   "source": [
    "Fibonacci_topdown(3, F2)"
   ]
  },
  {
   "cell_type": "code",
   "execution_count": 101,
   "id": "ece308bc",
   "metadata": {},
   "outputs": [
    {
     "data": {
      "text/plain": [
       "9227465"
      ]
     },
     "execution_count": 101,
     "metadata": {},
     "output_type": "execute_result"
    }
   ],
   "source": [
    "Fibonacci_topdown(4, F2)"
   ]
  },
  {
   "cell_type": "code",
   "execution_count": 102,
   "id": "3e4514af",
   "metadata": {},
   "outputs": [
    {
     "data": {
      "text/plain": [
       "14930352"
      ]
     },
     "execution_count": 102,
     "metadata": {},
     "output_type": "execute_result"
    }
   ],
   "source": [
    "Fibonacci_topdown(5, F2)"
   ]
  },
  {
   "cell_type": "code",
   "execution_count": 103,
   "id": "504ef266",
   "metadata": {},
   "outputs": [
    {
     "data": {
      "text/plain": [
       "24157817"
      ]
     },
     "execution_count": 103,
     "metadata": {},
     "output_type": "execute_result"
    }
   ],
   "source": [
    "Fibonacci_topdown(6, F2)"
   ]
  },
  {
   "cell_type": "markdown",
   "id": "8e71bd90",
   "metadata": {},
   "source": [
    "Have a look at above different ways to compute Fibonacci numbers. Report on their running time. Make sure you know the difference between them."
   ]
  },
  {
   "cell_type": "markdown",
   "id": "01e640cf",
   "metadata": {},
   "source": [
    "***"
   ]
  },
  {
   "cell_type": "markdown",
   "id": "caroline-debut",
   "metadata": {},
   "source": [
    "### <font color='red'> Activity 4: Write a brief report comparing 'Dynamic Programming' with 'Divide-and-Conquer' strategy? (If you are not familiar with Divide-and-Conquer strategy - revisit Quick Sort or Binary Search algorithms. You should address why we can not use DP for Quick Sort or Binary Sort). </font>"
   ]
  },
  {
   "cell_type": "code",
   "execution_count": null,
   "id": "wicked-marketing",
   "metadata": {},
   "outputs": [],
   "source": [
    "### TODO ###\n",
    "### Good Luck ###\n",
    "'''\n",
    "Dynamic programming is a technique that helps to efficiently solve a class of problems that have overlapping subproblems and optimal substructure property.\n",
    "Divide and conquer on the other hand involves breaking up a larger problem into non overlapping subproblems, solving the sub problems, and then combining the results (all the solutions are collected\n",
    "to arrive at the final answers). Simply put the divide and conquer strategy recursively splits a problem into two or more subproblems that are similar or related in type, until the problems are simple enough \n",
    "to solve directly. \n",
    "The main difference between the two is the use of the subproblems. In dynamic programming the smaller problems are used to solve the big main problem. In divide and conquer the bigger problems are divided into \n",
    "smaller problems and solved seperately (Divide and conquer = solving a single problem, Dynamic programming = solving a series of problems).\n",
    "While both strategies break down the main issue into seperate problems they do differ slightly. Divide and conquer is a form of recursive programming, whereas dynamic is non-recursive.\n",
    "Divide and conquer is ordinarily more time consuming since each problem is dealt with seperately. Dynamic programming is more efficient. In dynamic programming the results of the sub problems are stored in a table\n",
    "whereas in divide and conquer no results are stored when completing the sub problems. Dynamic programming sub problems are considered interdependent while divide and conquer sub problems are indepenedent.\n",
    "When executing QuickSort and MergeSort there is a recursion that occurs. You never end up operating over the same elements of the array twice during any given level of recursion. This means that you are not \n",
    "using the subproblem to solve the bigger problem. As QuickSort and MergeSort do not have overlapping sub problems they do not fit the criteria for dynamic programming. \n",
    "\n",
    "'''"
   ]
  },
  {
   "cell_type": "markdown",
   "id": "pleased-retail",
   "metadata": {},
   "source": [
    "### <font color='red'> Activity 5: You are running up a staircase with a total of n steps. You can hop either 1 step, 2 steps or 3 steps at at time. Write a DP program to determine how many possible ways you can run up the stairs? (Hint: Start with a recursive solution, and then later move to top-down approach of DP). </font>"
   ]
  },
  {
   "cell_type": "code",
   "execution_count": 104,
   "id": "dried-float",
   "metadata": {},
   "outputs": [],
   "source": [
    "### TODO ###\n",
    "### Good Luck ###\n",
    "#Fibonacci is the base \n",
    "#def return step (n)  return n-1, n-2, n-3 \n",
    "\n",
    "#Recursive\n",
    "def returnStepR(n):\n",
    "    if n == 0:\n",
    "        return 1\n",
    "    elif n<0:\n",
    "        return 0\n",
    "    else:\n",
    "        return returnStepR(n-1) + returnStepR(n-2) + returnStepR(n-3) \n",
    "\n",
    "#Dynamic\n",
    "def returnStepD(n):\n",
    "    #creates an array of n+1 size and populates it with 0's\n",
    "    array = [0] * (n + 1)\n",
    "    #base cases \n",
    "    #Populates the first 3 spots of the array with 1, 1, 2\n",
    "    array[0] = 1\n",
    "    array[1] = 1\n",
    "    array[2] = 2\n",
    "     \n",
    "    #loop from 3 to n \n",
    "    for i in range(3, n + 1):\n",
    "        array[i] = array[i - 1] + array[i - 2] + array[i - 3]\n",
    "    #Prints the final iteration of the array \n",
    "    print(\"Final Iteration From Index #\"), print(i)\n",
    "    print(array)\n",
    "    #Returns the final value in the array which is the count of the number of ways to reach the nth step\n",
    "    return array[n]\n",
    "\n",
    "\n"
   ]
  },
  {
   "cell_type": "markdown",
   "id": "a474a1ea",
   "metadata": {},
   "source": [
    "# Recursive Step Cases"
   ]
  },
  {
   "cell_type": "code",
   "execution_count": 105,
   "id": "a36d14ba",
   "metadata": {},
   "outputs": [
    {
     "data": {
      "text/plain": [
       "7"
      ]
     },
     "execution_count": 105,
     "metadata": {},
     "output_type": "execute_result"
    }
   ],
   "source": [
    "returnStepR(4)"
   ]
  },
  {
   "cell_type": "code",
   "execution_count": 106,
   "id": "8d120a54",
   "metadata": {},
   "outputs": [
    {
     "data": {
      "text/plain": [
       "13"
      ]
     },
     "execution_count": 106,
     "metadata": {},
     "output_type": "execute_result"
    }
   ],
   "source": [
    "returnStepR(5)"
   ]
  },
  {
   "cell_type": "code",
   "execution_count": 107,
   "id": "6d1ba021",
   "metadata": {},
   "outputs": [
    {
     "data": {
      "text/plain": [
       "24"
      ]
     },
     "execution_count": 107,
     "metadata": {},
     "output_type": "execute_result"
    }
   ],
   "source": [
    "returnStepR(6)"
   ]
  },
  {
   "cell_type": "code",
   "execution_count": 108,
   "id": "240e55c7",
   "metadata": {},
   "outputs": [
    {
     "data": {
      "text/plain": [
       "44"
      ]
     },
     "execution_count": 108,
     "metadata": {},
     "output_type": "execute_result"
    }
   ],
   "source": [
    "returnStepR(7)"
   ]
  },
  {
   "cell_type": "code",
   "execution_count": 109,
   "id": "79a93174",
   "metadata": {},
   "outputs": [
    {
     "data": {
      "text/plain": [
       "81"
      ]
     },
     "execution_count": 109,
     "metadata": {},
     "output_type": "execute_result"
    }
   ],
   "source": [
    "returnStepR(8)"
   ]
  },
  {
   "cell_type": "code",
   "execution_count": 110,
   "id": "b1eed7d0",
   "metadata": {},
   "outputs": [
    {
     "data": {
      "text/plain": [
       "410744"
      ]
     },
     "execution_count": 110,
     "metadata": {},
     "output_type": "execute_result"
    }
   ],
   "source": [
    "returnStepR(22)"
   ]
  },
  {
   "cell_type": "markdown",
   "id": "9056a7e1",
   "metadata": {},
   "source": [
    "# Dynamic Step Cases"
   ]
  },
  {
   "cell_type": "code",
   "execution_count": 111,
   "id": "0d213e28",
   "metadata": {},
   "outputs": [
    {
     "name": "stdout",
     "output_type": "stream",
     "text": [
      "Final Iteration From Index #\n",
      "4\n",
      "[1, 1, 2, 4, 7]\n"
     ]
    },
    {
     "data": {
      "text/plain": [
       "7"
      ]
     },
     "execution_count": 111,
     "metadata": {},
     "output_type": "execute_result"
    }
   ],
   "source": [
    "returnStepD(4)"
   ]
  },
  {
   "cell_type": "code",
   "execution_count": 112,
   "id": "21253088",
   "metadata": {},
   "outputs": [
    {
     "name": "stdout",
     "output_type": "stream",
     "text": [
      "Final Iteration From Index #\n",
      "5\n",
      "[1, 1, 2, 4, 7, 13]\n"
     ]
    },
    {
     "data": {
      "text/plain": [
       "13"
      ]
     },
     "execution_count": 112,
     "metadata": {},
     "output_type": "execute_result"
    }
   ],
   "source": [
    "returnStepD(5)"
   ]
  },
  {
   "cell_type": "code",
   "execution_count": 113,
   "id": "12440eb1",
   "metadata": {},
   "outputs": [
    {
     "name": "stdout",
     "output_type": "stream",
     "text": [
      "Final Iteration From Index #\n",
      "6\n",
      "[1, 1, 2, 4, 7, 13, 24]\n"
     ]
    },
    {
     "data": {
      "text/plain": [
       "24"
      ]
     },
     "execution_count": 113,
     "metadata": {},
     "output_type": "execute_result"
    }
   ],
   "source": [
    "returnStepD(6)"
   ]
  },
  {
   "cell_type": "code",
   "execution_count": 114,
   "id": "2041f849",
   "metadata": {},
   "outputs": [
    {
     "data": {
      "text/plain": [
       "24"
      ]
     },
     "execution_count": 114,
     "metadata": {},
     "output_type": "execute_result"
    }
   ],
   "source": [
    "returnStepR(6)"
   ]
  },
  {
   "cell_type": "code",
   "execution_count": 115,
   "id": "820eba4e",
   "metadata": {},
   "outputs": [
    {
     "name": "stdout",
     "output_type": "stream",
     "text": [
      "Final Iteration From Index #\n",
      "22\n",
      "[1, 1, 2, 4, 7, 13, 24, 44, 81, 149, 274, 504, 927, 1705, 3136, 5768, 10609, 19513, 35890, 66012, 121415, 223317, 410744]\n"
     ]
    },
    {
     "data": {
      "text/plain": [
       "410744"
      ]
     },
     "execution_count": 115,
     "metadata": {},
     "output_type": "execute_result"
    }
   ],
   "source": [
    "returnStepD(22)"
   ]
  },
  {
   "cell_type": "code",
   "execution_count": 116,
   "id": "8ca47a6c",
   "metadata": {},
   "outputs": [
    {
     "name": "stdout",
     "output_type": "stream",
     "text": [
      "Final Iteration From Index #\n",
      "100\n",
      "[1, 1, 2, 4, 7, 13, 24, 44, 81, 149, 274, 504, 927, 1705, 3136, 5768, 10609, 19513, 35890, 66012, 121415, 223317, 410744, 755476, 1389537, 2555757, 4700770, 8646064, 15902591, 29249425, 53798080, 98950096, 181997601, 334745777, 615693474, 1132436852, 2082876103, 3831006429, 7046319384, 12960201916, 23837527729, 43844049029, 80641778674, 148323355432, 272809183135, 501774317241, 922906855808, 1697490356184, 3122171529233, 5742568741225, 10562230626642, 19426970897100, 35731770264967, 65720971788709, 120879712950776, 222332455004452, 408933139743937, 752145307699165, 1383410902447554, 2544489349890656, 4680045560037375, 8607945812375585, 15832480722303616, 29120472094716576, 53560898629395777, 98513851446415969, 181195222170528322, 333269972246340068, 612979045863284359, 1127444240280152749, 2073693258389777176, 3814116544533214284, 7015254043203144209, 12903063846126135669, 23732434433862494162, 43650752323191774040, 80286250603180403871, 147669437360234672073, 271606440286606849984, 499562128250021925928, 918838005896863447985, 1690006574433492223897, 3108406708580377597810, 5717251288910733269692, 10515664571924603091399, 19341322569415713958901, 35574238430251050319992, 65431225571591367370292, 120346786571258131649185, 221352250573100549339469, 407130262715950048358946, 748829299860308729347600, 1377311813149359327046015, 2533271375725618104752561, 4659412488735286161146176, 8569995677610263592944752, 15762679542071167858843489, 28992087708416717612934417, 53324762928098149064722658, 98079530178586034536500564, 180396380815100901214157639]\n"
     ]
    },
    {
     "data": {
      "text/plain": [
       "180396380815100901214157639"
      ]
     },
     "execution_count": 116,
     "metadata": {},
     "output_type": "execute_result"
    }
   ],
   "source": [
    "returnStepD(100)"
   ]
  },
  {
   "cell_type": "markdown",
   "id": "ebd772d0",
   "metadata": {},
   "source": [
    "### <font color='red'> Activity 6: Implement Floyd-Warshal algorithm using above data structure (that is Node and Graph). Make sure to test all the use-cases. </font>"
   ]
  },
  {
   "cell_type": "code",
   "execution_count": 119,
   "id": "edf0acbd",
   "metadata": {},
   "outputs": [],
   "source": [
    "#### TODO ####\n",
    "### Good Luck ###\n",
    "\n",
    "\n",
    "'''\n",
    "APPROACH 1\n",
    "def floydW(G):\n",
    "    #variable for the number of vertices\n",
    "    numberVertices = len(G.vertices)\n",
    "    \n",
    "    #create a 2D array and set all as infinity\n",
    "    distance = np.full((numberVertices, numberVertices), math.inf)\n",
    "    \n",
    "  \n",
    "    for u in range(numberVertices):\n",
    "        for k in range (numberVertices):\n",
    "            if u == k:\n",
    "                distance[u][k]= 0\n",
    "                \n",
    "            for v in (G.vertices):\n",
    "                distance[k][v] = min(distance[k][v], distance[k][u] + distance[u][v])\n",
    "                                           \n",
    "                \n",
    "    print(distance)\n",
    "'''\n",
    "\n",
    "def Floyd(G):\n",
    "        numberVertices = len(G.vertices)\n",
    "        vertices = G.vertices\n",
    "        #The ordered array to later populate the matrix\n",
    "        orderedList = []\n",
    "        \n",
    "        for u in vertices:\n",
    "            for v in vertices:\n",
    "                if u == v:\n",
    "                    orderedList.append(0)\n",
    "                else:\n",
    "                    flag = 0\n",
    "                    for k, wt, in v.getOutNeighborsWithWeights():\n",
    "                        if str(k) == str(u):\n",
    "                            flag = 1\n",
    "                            orderedList.append(wt)\n",
    "                    if flag == 0:\n",
    "                        orderedList.append(math.inf)\n",
    "        print(\"Final Order\", orderedList)\n",
    "        x= 0\n",
    "        table = np.zeros((numberVertices, numberVertices))\n",
    "        \n",
    "        #Populating the matrix with the ordered array values\n",
    "        for i in range(numberVertices):\n",
    "            for j in range(numberVertices):\n",
    "                table[j][i] = orderedList[x]\n",
    "                x+=1\n",
    "                \n",
    "        for k in range(1, numberVertices):\n",
    "            for i in range(0, numberVertices):\n",
    "                for j in range(0, numberVertices):\n",
    "                    if table[i][j] > table[i][k] + table[k][j]:\n",
    "                        table[i][j] = table[i][k] + table[k][j]\n",
    "        #Prints the matrix table                 \n",
    "        print(table)\n",
    "\n"
   ]
  },
  {
   "cell_type": "code",
   "execution_count": 120,
   "id": "cbd28308",
   "metadata": {},
   "outputs": [
    {
     "name": "stdout",
     "output_type": "stream",
     "text": [
      "Final Order [0, inf, inf, 4, 5, 0, inf, 6, 8, 3, 0, inf, inf, inf, 9, 0]\n",
      "[[ 0.  5.  8. 17.]\n",
      " [16.  0.  3. 12.]\n",
      " [13. 15.  0.  9.]\n",
      " [ 4.  6.  9.  0.]]\n"
     ]
    }
   ],
   "source": [
    "Floyd(G3)"
   ]
  },
  {
   "cell_type": "code",
   "execution_count": 121,
   "id": "6c5a6635",
   "metadata": {},
   "outputs": [
    {
     "name": "stdout",
     "output_type": "stream",
     "text": [
      "Final Order [0, inf, inf, 3, 0, -2, 4, inf, 0]\n",
      "[[ 0.  2.  4.]\n",
      " [inf  0. inf]\n",
      " [inf -2.  0.]]\n"
     ]
    }
   ],
   "source": [
    "Floyd(G2)"
   ]
  },
  {
   "cell_type": "code",
   "execution_count": 122,
   "id": "cc167197",
   "metadata": {},
   "outputs": [
    {
     "name": "stdout",
     "output_type": "stream",
     "text": [
      "Final Order [0, inf, inf, inf, inf, inf, 8, 0, inf, inf, inf, inf, 10, inf, 0, -4, 1, inf, inf, 1, inf, 0, inf, inf, inf, inf, inf, inf, 0, -2, inf, inf, 2, -1, inf, 0]\n",
      "[[ 0.  8.  5.  9.  5.  7.]\n",
      " [inf  0. -3.  1. -3. -1.]\n",
      " [inf inf  0. inf  0.  2.]\n",
      " [inf inf -4.  0. -4. -2.]\n",
      " [inf inf  1. inf  0.  3.]\n",
      " [inf inf -1. inf -2.  0.]]\n"
     ]
    }
   ],
   "source": [
    "Floyd(G)"
   ]
  },
  {
   "cell_type": "markdown",
   "id": "e143dc12",
   "metadata": {},
   "source": [
    "***"
   ]
  },
  {
   "cell_type": "markdown",
   "id": "79cfe7ab",
   "metadata": {},
   "source": [
    "***"
   ]
  }
 ],
 "metadata": {
  "kernelspec": {
   "display_name": "Python 3 (ipykernel)",
   "language": "python",
   "name": "python3"
  },
  "language_info": {
   "codemirror_mode": {
    "name": "ipython",
    "version": 3
   },
   "file_extension": ".py",
   "mimetype": "text/x-python",
   "name": "python",
   "nbconvert_exporter": "python",
   "pygments_lexer": "ipython3",
   "version": "3.9.12"
  }
 },
 "nbformat": 4,
 "nbformat_minor": 5
}
